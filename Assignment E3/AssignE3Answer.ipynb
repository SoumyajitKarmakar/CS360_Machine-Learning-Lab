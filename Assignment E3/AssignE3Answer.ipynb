{
  "nbformat": 4,
  "nbformat_minor": 0,
  "metadata": {
    "colab": {
      "name": "AssignE3Answer.ipynb",
      "provenance": [],
      "collapsed_sections": []
    },
    "kernelspec": {
      "name": "python3",
      "display_name": "Python 3"
    },
    "language_info": {
      "name": "python"
    }
  },
  "cells": [
    {
      "cell_type": "code",
      "metadata": {
        "id": "nOwwzGWFlGO_"
      },
      "source": [
        "import pandas as pd\n",
        "import numpy as np\n",
        "from sklearn import datasets\n",
        "from numpy.random import choice\n",
        "from numpy.random import seed\n",
        "from sklearn.preprocessing import MinMaxScaler\n",
        "\n",
        "\n",
        "iris = datasets.load_iris()\n",
        "data = pd.DataFrame(iris.data,columns = iris.feature_names)\n",
        "\n",
        "target = iris.target_names\n",
        "labels = iris.target\n",
        "\n",
        "scaler = MinMaxScaler()\n",
        "data = pd.DataFrame(scaler.fit_transform(data), columns=data.columns)\n",
        "\n",
        "\n",
        "datapoints = data.to_numpy()\n",
        "m, f = datapoints.shape\n",
        "k = 3\n",
        "\n",
        "\n",
        "def init_medoids(X, k):\n",
        "    seed(1)\n",
        "    samples = choice(len(X), size=k, replace=False)\n",
        "    return X[samples, :]\n",
        "\n",
        "def compute_d_p(X, medoids, p):\n",
        "    m = len(X)\n",
        "    medoids_shape = medoids.shape\n",
        "\n",
        "    if len(medoids_shape) == 1: \n",
        "        medoids = medoids.reshape((1,len(medoids)))\n",
        "\n",
        "    k = len(medoids)\n",
        "    \n",
        "    S = np.empty((m, k))\n",
        "    \n",
        "    for i in range(m):\n",
        "        d_i = np.linalg.norm(X[i, :] - medoids, ord=p, axis=1)\n",
        "        S[i, :] = d_i**p\n",
        "\n",
        "    return S\n",
        "\n",
        "def assign_labels(S):\n",
        "    return np.argmin(S, axis=1)\n",
        "\n",
        "\n",
        "def update_medoids(X, medoids, p):\n",
        "    S = compute_d_p(datapoints, medoids, p)\n",
        "    labels = assign_labels(S)\n",
        "        \n",
        "    out_medoids = medoids\n",
        "                \n",
        "    for i in set(labels):\n",
        "        \n",
        "        avg_dissimilarity = np.sum(compute_d_p(datapoints, medoids[i], p))\n",
        "\n",
        "        cluster_points = datapoints[labels == i]\n",
        "        \n",
        "        for datap in cluster_points:\n",
        "            new_medoid = datap\n",
        "            new_dissimilarity= np.sum(compute_d_p(datapoints, datap, p))\n",
        "            \n",
        "            if new_dissimilarity < avg_dissimilarity :\n",
        "                avg_dissimilarity = new_dissimilarity\n",
        "                \n",
        "                out_medoids[i] = datap\n",
        "                \n",
        "    return out_medoids\n",
        "\n",
        "\n",
        "def has_converged(old_medoids, medoids):\n",
        "    return set([tuple(x) for x in old_medoids]) == set([tuple(x) for x in medoids])\n",
        "\n",
        "\n",
        "def kmedoids(X, k, p, max_steps=np.inf):\n",
        "    medoids = init_medoids(X, k)\n",
        "        \n",
        "    converged = False\n",
        "    labels = np.zeros(len(X))\n",
        "    i = 1\n",
        "    while (not converged) and (i <= max_steps):\n",
        "        old_medoids = medoids.copy()\n",
        "        \n",
        "        S = compute_d_p(X, medoids, p)\n",
        "        \n",
        "        labels = assign_labels(S)\n",
        "        \n",
        "        medoids = update_medoids(X, medoids, p)\n",
        "        \n",
        "        converged = has_converged(old_medoids, medoids)\n",
        "        i += 1\n",
        "    return (medoids,labels)\n",
        "\n",
        "\n",
        "max_epoch = 10000\n",
        "\n",
        "\n",
        "medoids_initial = init_medoids(datapoints, 3)\n",
        "S = compute_d_p(datapoints, medoids_initial, 2) \n",
        "labels = assign_labels(S)\n",
        "results = kmedoids(datapoints, 3, 2, max_steps=max_epoch)\n",
        "final_medoids = results[0]\n",
        "data['clusters'] = results[1]\n"
      ],
      "execution_count": 57,
      "outputs": []
    },
    {
      "cell_type": "code",
      "metadata": {
        "colab": {
          "base_uri": "https://localhost:8080/"
        },
        "id": "VniPxLRIuNRs",
        "outputId": "4f97e5e6-2650-46d7-d4c3-003b36c542c5"
      },
      "source": [
        "sse = 0\n",
        "\n",
        "for i in range(data.shape[0]):\n",
        "  point = [data.iloc[i, 0], data.iloc[i, 1], data.iloc[i, 2], data.iloc[i, 3]]\n",
        "  ind = data.iloc[i,4]\n",
        "  sse += (np.linalg.norm(point - results[0][ind]))**2\n",
        "\n",
        "\n",
        "print(\"The SSE for the k medoid method is : \", sse)\n",
        "print(\"The silhouette score for k medoid method is : \", silhouette_score(data, labels))"
      ],
      "execution_count": 58,
      "outputs": [
        {
          "output_type": "stream",
          "name": "stdout",
          "text": [
            "The SSE for the k medoid method is :  20.65462305735546\n",
            "The silhouette score for k medoid method is :  0.6482147036394829\n"
          ]
        }
      ]
    },
    {
      "cell_type": "code",
      "metadata": {
        "colab": {
          "base_uri": "https://localhost:8080/"
        },
        "id": "af36QIhOyFNI",
        "outputId": "4274405c-1291-4f82-a68d-7b5bd879b1a4"
      },
      "source": [
        "from sklearn.cluster import KMeans\n",
        "from sklearn.metrics import silhouette_score\n",
        "\n",
        "iris = datasets.load_iris()\n",
        "data = pd.DataFrame(iris.data,columns = iris.feature_names)\n",
        "\n",
        "KMean= KMeans(n_clusters=3)\n",
        "KMean.fit(data)\n",
        "label=KMean.predict(data)\n",
        "\n",
        "print(\"The silhouette score for k mean method is : \", silhouette_score(data, label))"
      ],
      "execution_count": 59,
      "outputs": [
        {
          "output_type": "stream",
          "name": "stdout",
          "text": [
            "The silhouette score for k mean method is :  0.5528190123564091\n"
          ]
        }
      ]
    }
  ]
}