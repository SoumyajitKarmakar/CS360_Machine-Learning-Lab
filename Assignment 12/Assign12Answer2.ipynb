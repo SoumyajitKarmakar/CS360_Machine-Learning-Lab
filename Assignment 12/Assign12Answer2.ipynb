{
  "nbformat": 4,
  "nbformat_minor": 0,
  "metadata": {
    "colab": {
      "name": "Assign12Answer2.ipynb",
      "provenance": []
    },
    "kernelspec": {
      "name": "python3",
      "display_name": "Python 3"
    },
    "language_info": {
      "name": "python"
    }
  },
  "cells": [
    {
      "cell_type": "code",
      "metadata": {
        "id": "muq4OetJ0BwF"
      },
      "source": [
        "import numpy as np\n",
        "import pandas as pd\n",
        "from sklearn import datasets\n",
        "from sklearn.preprocessing import StandardScaler\n",
        "from sklearn.model_selection import train_test_split\n",
        "from sklearn.metrics import classification_report\n",
        "from sklearn.naive_bayes import GaussianNB\n",
        "from sklearn.metrics import confusion_matrix"
      ],
      "execution_count": 17,
      "outputs": []
    },
    {
      "cell_type": "code",
      "metadata": {
        "id": "RPetwmLgPGk-"
      },
      "source": [
        "data = datasets.load_iris()\n",
        "X = pd.DataFrame(data.data, columns=data.feature_names)\n",
        "Y = pd.DataFrame(data.target)\n",
        "\n",
        "SS = StandardScaler()\n",
        "X = pd.DataFrame(SS.fit_transform(X))\n",
        "\n",
        "X.rename(columns={0: 'sepal length (cm)', 1: 'sepal width (cm)', 2: 'petal length (cm)', 3: 'petal width (cm)'}, inplace=True)\n",
        "Y.rename(columns={0: 'target'}, inplace=True)\n",
        "\n",
        "X_train,X_test,Y_train,Y_test = train_test_split(X, Y, test_size=0.3, random_state=0)\n",
        "\n",
        "X_train.reset_index(drop=True, inplace=True)\n",
        "Y_train.reset_index(drop=True, inplace=True)\n",
        "X_test.reset_index(drop=True, inplace=True)\n",
        "Y_test.reset_index(drop=True, inplace=True)"
      ],
      "execution_count": 18,
      "outputs": []
    },
    {
      "cell_type": "code",
      "metadata": {
        "colab": {
          "base_uri": "https://localhost:8080/"
        },
        "id": "V5zrBU2ePOA-",
        "outputId": "39e5b6e1-59dd-424e-eb50-fc46713748cf"
      },
      "source": [
        "classifier = GaussianNB()\n",
        "classifier.fit(X_train, Y_train.values.ravel())\n",
        "\n",
        "Y_pred = classifier.predict(X_test)\n",
        "\n",
        "cm = confusion_matrix(Y_test, Y_pred)\n",
        "\n",
        "print(cm)\n",
        "print(classification_report(Y_test, Y_pred, zero_division=1))"
      ],
      "execution_count": 19,
      "outputs": [
        {
          "output_type": "stream",
          "name": "stdout",
          "text": [
            "[[16  0  0]\n",
            " [ 0 18  0]\n",
            " [ 0  0 11]]\n",
            "              precision    recall  f1-score   support\n",
            "\n",
            "           0       1.00      1.00      1.00        16\n",
            "           1       1.00      1.00      1.00        18\n",
            "           2       1.00      1.00      1.00        11\n",
            "\n",
            "    accuracy                           1.00        45\n",
            "   macro avg       1.00      1.00      1.00        45\n",
            "weighted avg       1.00      1.00      1.00        45\n",
            "\n"
          ]
        }
      ]
    },
    {
      "cell_type": "code",
      "metadata": {
        "id": "nW3QzbEgQC-q"
      },
      "source": [
        ""
      ],
      "execution_count": null,
      "outputs": []
    }
  ]
}