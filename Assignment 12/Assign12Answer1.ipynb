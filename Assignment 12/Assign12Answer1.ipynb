{
  "nbformat": 4,
  "nbformat_minor": 0,
  "metadata": {
    "colab": {
      "name": "Assign12Answer1.ipynb",
      "provenance": [],
      "collapsed_sections": []
    },
    "kernelspec": {
      "name": "python3",
      "display_name": "Python 3"
    },
    "language_info": {
      "name": "python"
    }
  },
  "cells": [
    {
      "cell_type": "code",
      "metadata": {
        "id": "7A729P2b0LDD"
      },
      "source": [
        "import numpy as np\n",
        "import pandas as pd\n",
        "from sklearn import datasets\n",
        "from sklearn.preprocessing import StandardScaler\n",
        "import operator\n",
        "from sklearn.model_selection import GridSearchCV\n",
        "from sklearn.model_selection import train_test_split\n",
        "from sklearn.pipeline import Pipeline\n",
        "from sklearn.neighbors import KNeighborsClassifier\n",
        "from sklearn.metrics import confusion_matrix\n",
        "from sklearn.metrics import classification_report"
      ],
      "execution_count": 98,
      "outputs": []
    },
    {
      "cell_type": "code",
      "metadata": {
        "id": "0GI6fhR801Nb"
      },
      "source": [
        "data = datasets.load_iris()\n",
        "X = pd.DataFrame(data.data, columns=data.feature_names)\n",
        "Y = pd.DataFrame(data.target)\n",
        "\n",
        "SS = StandardScaler()\n",
        "X = pd.DataFrame(SS.fit_transform(X))\n",
        "\n",
        "X.rename(columns={0: 'sepal length (cm)', 1: 'sepal width (cm)', 2: 'petal length (cm)', 3: 'petal width (cm)'}, inplace=True)\n",
        "Y.rename(columns={0: 'target'}, inplace=True)\n",
        "\n",
        "X_train,X_test,Y_train,Y_test = train_test_split(X, Y, test_size=0.3, random_state=0)\n",
        "\n",
        "X_train.reset_index(drop=True, inplace=True)\n",
        "Y_train.reset_index(drop=True, inplace=True)\n",
        "X_test.reset_index(drop=True, inplace=True)\n",
        "Y_test.reset_index(drop=True, inplace=True)"
      ],
      "execution_count": null,
      "outputs": []
    },
    {
      "cell_type": "code",
      "metadata": {
        "colab": {
          "base_uri": "https://localhost:8080/"
        },
        "id": "MfTemTdf37fE",
        "outputId": "17435be2-4297-405c-bcd7-6522a48c2797"
      },
      "source": [
        "knn_pipe = Pipeline([('knn', KNeighborsClassifier())])\n",
        "params = [{'knn__n_neighbors': [3, 5, 7, 9],\n",
        "         'knn__weights': ['uniform', 'distance'],\n",
        "         'knn__leaf_size': [15, 20]}]\n",
        "\n",
        "gs_knn = GridSearchCV(knn_pipe,\n",
        "                      param_grid=params,\n",
        "                      scoring='accuracy',\n",
        "                      cv=5)\n",
        "gs_knn.fit(X_train, Y_train.values.ravel())\n",
        "gs_knn.best_params_"
      ],
      "execution_count": null,
      "outputs": [
        {
          "output_type": "execute_result",
          "data": {
            "text/plain": [
              "{'knn__leaf_size': 15, 'knn__n_neighbors': 5, 'knn__weights': 'uniform'}"
            ]
          },
          "metadata": {},
          "execution_count": 96
        }
      ]
    },
    {
      "cell_type": "code",
      "metadata": {
        "colab": {
          "base_uri": "https://localhost:8080/"
        },
        "id": "I7Hx8US05zeq",
        "outputId": "0dbd709f-9ce4-490b-97a8-e62a94237b6e"
      },
      "source": [
        "Y_pred = []\n",
        "temp = []\n",
        "negh = []\n",
        "\n",
        "for i in range(X_test.shape[0]):\n",
        "  for j in range(X_train.shape[0]):\n",
        "      temp.append((np.linalg.norm(X_test.loc[i] - X_train.loc[j]), i, j))\n",
        "\n",
        "  temp.sort(reverse=True,key=operator.itemgetter(0))\n",
        "\n",
        "  for k in range(5):\n",
        "    negh.append(Y_train.iloc[temp.pop()[2], 0])\n",
        "  Y_pred.append(max(negh, key=negh.count))\n",
        "  negh.clear()\n",
        "\n",
        "cm = confusion_matrix(Y_test, Y_pred)\n",
        "print(cm)\n",
        "print(classification_report(Y_test, Y_pred, zero_division=1))"
      ],
      "execution_count": 99,
      "outputs": [
        {
          "output_type": "stream",
          "name": "stdout",
          "text": [
            "[[15  0  1]\n",
            " [ 0 17  1]\n",
            " [ 4  0  7]]\n",
            "              precision    recall  f1-score   support\n",
            "\n",
            "           0       0.79      0.94      0.86        16\n",
            "           1       1.00      0.94      0.97        18\n",
            "           2       0.78      0.64      0.70        11\n",
            "\n",
            "    accuracy                           0.87        45\n",
            "   macro avg       0.86      0.84      0.84        45\n",
            "weighted avg       0.87      0.87      0.86        45\n",
            "\n"
          ]
        }
      ]
    },
    {
      "cell_type": "markdown",
      "metadata": {
        "id": "1Z9Tgav06Wz_"
      },
      "source": [
        ""
      ]
    }
  ]
}