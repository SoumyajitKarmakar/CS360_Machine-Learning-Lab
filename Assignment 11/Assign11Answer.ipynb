{
  "nbformat": 4,
  "nbformat_minor": 0,
  "metadata": {
    "colab": {
      "name": "Assign11Answer.ipynb",
      "provenance": []
    },
    "kernelspec": {
      "name": "python3",
      "display_name": "Python 3"
    },
    "language_info": {
      "name": "python"
    }
  },
  "cells": [
    {
      "cell_type": "code",
      "metadata": {
        "id": "6R-KOi00m1sE"
      },
      "source": [
        "import numpy as np\n",
        "import pandas as pd\n",
        "import matplotlib.pyplot as plt\n",
        "from sklearn import datasets\n",
        "from sklearn.preprocessing import MinMaxScaler"
      ],
      "execution_count": 8,
      "outputs": []
    },
    {
      "cell_type": "code",
      "metadata": {
        "id": "KCobTALQxYoT"
      },
      "source": [
        "iris = datasets.load_iris()\n",
        "data = pd.DataFrame(iris.data,columns = iris.feature_names)\n",
        "\n",
        "scaler = MinMaxScaler()\n",
        "data = pd.DataFrame(scaler.fit_transform(data), columns=data.columns)\n",
        "\n",
        "dataset = data.to_numpy()\n",
        "\n",
        "dataset"
      ],
      "execution_count": null,
      "outputs": []
    },
    {
      "cell_type": "code",
      "metadata": {
        "colab": {
          "base_uri": "https://localhost:8080/"
        },
        "id": "tF2GtAAaqqxI",
        "outputId": "74af3e50-cea3-464b-dd4b-883c88e863ca"
      },
      "source": [
        "# Dimensions of the SOM grid\n",
        "m = 1\n",
        "n = 10\n",
        "\n",
        "# # Number of training examples\n",
        "# n_x = 3000\n",
        "# rand = np.random.RandomState(0)\n",
        "# # Initialize the training data\n",
        "# train_data = rand.randint(0, 255, (n_x, 3))\n",
        "\n",
        "# Initialize the SOM randomly\n",
        "SOM = rand.randint(0, 50, (m, n, 4)).astype(float)\n",
        "\n",
        "SOM"
      ],
      "execution_count": 21,
      "outputs": [
        {
          "output_type": "execute_result",
          "data": {
            "text/plain": [
              "array([[[32.,  6., 33.,  0.],\n",
              "        [ 3., 41., 47.,  5.],\n",
              "        [44., 34.,  1., 39.],\n",
              "        [11., 13., 12., 12.],\n",
              "        [17., 41., 25., 43.],\n",
              "        [35., 26., 34.,  8.],\n",
              "        [42.,  7., 13.,  8.],\n",
              "        [26., 19., 47., 30.],\n",
              "        [11., 49., 35., 19.],\n",
              "        [22., 36., 19., 47.]]])"
            ]
          },
          "metadata": {},
          "execution_count": 21
        }
      ]
    },
    {
      "cell_type": "code",
      "metadata": {
        "id": "cGgxo7aLw7aL"
      },
      "source": [
        "def find_BMU(SOM,x):\n",
        "    distSq = (np.square(SOM - x)).sum(axis=2)\n",
        "    return np.unravel_index(np.argmin(distSq, axis=None), distSq.shape)\n",
        "    \n",
        "def update_weights(SOM, train_ex, learn_rate, radius_sq, \n",
        "                   BMU_coord, step=3):\n",
        "    g, h = BMU_coord\n",
        "\n",
        "    if radius_sq < 1e-3:\n",
        "        SOM[g,h,:] += learn_rate * (train_ex - SOM[g,h,:])\n",
        "        return SOM\n",
        "\n",
        "    for i in range(max(0, g-step), min(SOM.shape[0], g+step)):\n",
        "        for j in range(max(0, h-step), min(SOM.shape[1], h+step)):\n",
        "            dist_sq = np.square(i - g) + np.square(j - h)\n",
        "            # Gaussian dist func\n",
        "            dist_func = np.exp(-dist_sq / 2 / radius_sq)\n",
        "            SOM[i,j,:] += learn_rate * dist_func * (train_ex - SOM[i,j,:])   \n",
        "    return SOM    \n",
        "\n",
        "\n",
        "def train_SOM(SOM, train_data, learn_rate = .1, radius_sq = 1, epochs = 10):    \n",
        "    for epoch in np.arange(0, epochs):\n",
        "        rand.shuffle(train_data)      \n",
        "        for train_ex in train_data:\n",
        "            g, h = find_BMU(SOM, train_ex)\n",
        "            SOM = update_weights(SOM, train_ex, learn_rate, radius_sq, (g,h))           \n",
        "    return SOM"
      ],
      "execution_count": 31,
      "outputs": []
    },
    {
      "cell_type": "code",
      "metadata": {
        "colab": {
          "base_uri": "https://localhost:8080/"
        },
        "id": "Vyizqn54w8P6",
        "outputId": "a4248b87-9c41-422c-81c6-a399c05733b5"
      },
      "source": [
        "alpha = 0.1\n",
        "radius_square = 1\n",
        "max_epoch = 20\n",
        "\n",
        "SOM = train_SOM(SOM, dataset, learn_rate=alpha, radius_sq=radius_square, epochs=max_epoch)\n",
        "print(SOM)\n"
      ],
      "execution_count": 33,
      "outputs": [
        {
          "output_type": "stream",
          "name": "stdout",
          "text": [
            "[[[0.24242741 0.67223571 0.07912897 0.06985704]\n",
            "  [0.19146615 0.59014846 0.07188968 0.06475928]\n",
            "  [0.15419286 0.47353364 0.10070161 0.08473535]\n",
            "  [0.2402027  0.35828212 0.29351586 0.25780741]\n",
            "  [0.39330618 0.31954491 0.52381358 0.46811944]\n",
            "  [0.47413446 0.34349512 0.61094668 0.56302495]\n",
            "  [0.51519093 0.36993827 0.64924651 0.64101533]\n",
            "  [0.58058632 0.39656543 0.69402353 0.71717582]\n",
            "  [0.69215505 0.42656197 0.77245763 0.79296774]\n",
            "  [0.77017517 0.4460216  0.83544161 0.83662194]]]\n"
          ]
        }
      ]
    },
    {
      "cell_type": "code",
      "metadata": {
        "id": "Bu9g767g9qGr"
      },
      "source": [
        "!pip install minisom"
      ],
      "execution_count": null,
      "outputs": []
    },
    {
      "cell_type": "code",
      "metadata": {
        "id": "T2WLzsHF70f8"
      },
      "source": [
        "from minisom import MiniSom\n",
        "\n",
        "lsom = MiniSom(1, 10, 4, sigma=0.81, neighborhood_function='gaussian')\n",
        "lsom.train_random(dataset, 20)"
      ],
      "execution_count": 41,
      "outputs": []
    },
    {
      "cell_type": "code",
      "metadata": {
        "colab": {
          "base_uri": "https://localhost:8080/",
          "height": 596
        },
        "id": "hfAB8XBoFsXD",
        "outputId": "4adcffe0-3448-4429-a856-1e8540903e0e"
      },
      "source": [
        "plt.figure(figsize=(1,10))\n",
        "freq = np.zeros((1,10))\n",
        "for pos, values in lsom.win_map(dataset).items():\n",
        "  freq[pos[0], pos[1]] = len(values)\n",
        "\n",
        "plt.pcolor(freq, cmap='Blues')\n",
        "plt.colorbar()\n",
        "plt.show()"
      ],
      "execution_count": 44,
      "outputs": [
        {
          "output_type": "display_data",
          "data": {
            "image/png": "[encoded data removed]",
            "text/plain": [
              "<Figure size 72x720 with 2 Axes>"
            ]
          },
          "metadata": {
            "needs_background": "light"
          }
        }
      ]
    }
  ]
}